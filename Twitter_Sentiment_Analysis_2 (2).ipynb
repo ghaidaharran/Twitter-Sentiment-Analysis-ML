{
  "nbformat": 4,
  "nbformat_minor": 0,
  "metadata": {
    "colab": {
      "provenance": []
    },
    "kernelspec": {
      "name": "python3",
      "display_name": "Python 3"
    },
    "language_info": {
      "name": "python"
    }
  },
  "cells": [
    {
      "cell_type": "markdown",
      "source": [
        "## **Preparing the work environment**"
      ],
      "metadata": {
        "id": "4wl69UFybc_P"
      }
    },
    {
      "cell_type": "code",
      "execution_count": 1,
      "metadata": {
        "colab": {
          "base_uri": "https://localhost:8080/"
        },
        "id": "hfcIGKtybKci",
        "outputId": "0c83e3e3-b8ac-476a-ada7-f7b4c14d5eea"
      },
      "outputs": [
        {
          "output_type": "stream",
          "name": "stderr",
          "text": [
            "[nltk_data] Downloading package stopwords to /root/nltk_data...\n",
            "[nltk_data]   Package stopwords is already up-to-date!\n",
            "[nltk_data] Downloading package punkt to /root/nltk_data...\n",
            "[nltk_data]   Package punkt is already up-to-date!\n"
          ]
        }
      ],
      "source": [
        "import pandas as pd\n",
        "import re\n",
        "import numpy as np\n",
        "import seaborn as sns\n",
        "import matplotlib.pyplot as plt\n",
        "from sklearn.feature_extraction.text import CountVectorizer \n",
        "from sklearn.feature_extraction.text import TfidfVectorizer\n",
        "from sklearn.cluster import KMeans\n",
        "from sklearn.model_selection import train_test_split\n",
        "from sklearn.metrics import f1_score,confusion_matrix,classification_report\n",
        "from sklearn.decomposition import PCA\n",
        "from sklearn.decomposition import TruncatedSVD\n",
        "from sklearn.cluster import AgglomerativeClustering\n",
        "from sklearn.cluster import DBSCAN\n",
        "\n",
        "\n",
        "import nltk\n",
        "nltk.download('stopwords')\n",
        "nltk.download('punkt')\n",
        "from nltk.corpus import stopwords\n",
        "from nltk.stem import PorterStemmer\n",
        "from nltk.tokenize import word_tokenize\n",
        "\n",
        "stop_words = set(stopwords.words('english'))\n",
        "stemmer = PorterStemmer()"
      ]
    },
    {
      "cell_type": "markdown",
      "source": [
        "## load dataset"
      ],
      "metadata": {
        "id": "HdJkoPZObvZu"
      }
    },
    {
      "cell_type": "code",
      "source": [
        "train = pd.read_csv(r'/content/drive/MyDrive/Colab Notebooks/train1.csv')\n",
        "test = pd.read_csv(r'/content/drive/MyDrive/Colab Notebooks/test1.csv')"
      ],
      "metadata": {
        "id": "Uq0jMP1Fbo1Q"
      },
      "execution_count": 2,
      "outputs": []
    },
    {
      "cell_type": "markdown",
      "source": [
        "## EDA"
      ],
      "metadata": {
        "id": "5mRj-C4acaHO"
      }
    },
    {
      "cell_type": "code",
      "source": [
        "print('Shape of train ',train.shape)\n",
        "print('Shape of test ',test.shape)"
      ],
      "metadata": {
        "colab": {
          "base_uri": "https://localhost:8080/"
        },
        "id": "Vn6YzeN_b0eg",
        "outputId": "246eab9b-9b3c-4917-8b2e-7e4d8e5e9ea7"
      },
      "execution_count": 3,
      "outputs": [
        {
          "output_type": "stream",
          "name": "stdout",
          "text": [
            "Shape of train  (1023999, 6)\n",
            "Shape of test  (256000, 5)\n"
          ]
        }
      ]
    },
    {
      "cell_type": "code",
      "source": [
        "train.info()"
      ],
      "metadata": {
        "colab": {
          "base_uri": "https://localhost:8080/"
        },
        "id": "tPjL2saDcA4j",
        "outputId": "86e505e6-f9ba-4947-a68b-bad0dedf66ea"
      },
      "execution_count": 4,
      "outputs": [
        {
          "output_type": "stream",
          "name": "stdout",
          "text": [
            "<class 'pandas.core.frame.DataFrame'>\n",
            "RangeIndex: 1023999 entries, 0 to 1023998\n",
            "Data columns (total 6 columns):\n",
            " #   Column  Non-Null Count    Dtype \n",
            "---  ------  --------------    ----- \n",
            " 0   date    1023999 non-null  object\n",
            " 1   flag    1023999 non-null  object\n",
            " 2   user    1023999 non-null  object\n",
            " 3   text    1023999 non-null  object\n",
            " 4   id      1023999 non-null  int64 \n",
            " 5   target  1023999 non-null  int64 \n",
            "dtypes: int64(2), object(4)\n",
            "memory usage: 46.9+ MB\n"
          ]
        }
      ]
    },
    {
      "cell_type": "code",
      "source": [
        "test.info()"
      ],
      "metadata": {
        "colab": {
          "base_uri": "https://localhost:8080/"
        },
        "id": "OpamiFQmcQFF",
        "outputId": "4d44006d-8044-471f-82ac-89c4906a1afc"
      },
      "execution_count": 5,
      "outputs": [
        {
          "output_type": "stream",
          "name": "stdout",
          "text": [
            "<class 'pandas.core.frame.DataFrame'>\n",
            "RangeIndex: 256000 entries, 0 to 255999\n",
            "Data columns (total 5 columns):\n",
            " #   Column  Non-Null Count   Dtype \n",
            "---  ------  --------------   ----- \n",
            " 0   date    256000 non-null  object\n",
            " 1   flag    256000 non-null  object\n",
            " 2   user    256000 non-null  object\n",
            " 3   text    256000 non-null  object\n",
            " 4   id      256000 non-null  int64 \n",
            "dtypes: int64(1), object(4)\n",
            "memory usage: 9.8+ MB\n"
          ]
        }
      ]
    },
    {
      "cell_type": "code",
      "source": [
        "sns.countplot(x=train['target'])"
      ],
      "metadata": {
        "colab": {
          "base_uri": "https://localhost:8080/",
          "height": 296
        },
        "id": "NHR_KBF7cT_l",
        "outputId": "9266e585-36ce-496c-b82f-fbb0da25e477"
      },
      "execution_count": 6,
      "outputs": [
        {
          "output_type": "execute_result",
          "data": {
            "text/plain": [
              "<Axes: xlabel='target', ylabel='count'>"
            ]
          },
          "metadata": {},
          "execution_count": 6
        },
        {
          "output_type": "display_data",
          "data": {
            "text/plain": [
              "<Figure size 432x288 with 1 Axes>"
            ],
            "image/png": "[encoded data removed]"
          },
          "metadata": {
            "needs_background": "light"
          }
        }
      ]
    },
    {
      "cell_type": "code",
      "source": [
        "target = train['target']\n",
        "train_id = train['id']\n",
        "test_id = test['id']\n",
        "train.drop(['id','date','user','flag'],axis=1,inplace=True)\n",
        "test.drop(['id','date','user','flag'],axis=1,inplace=True)"
      ],
      "metadata": {
        "id": "-3nY45cxcmSH"
      },
      "execution_count": 7,
      "outputs": []
    },
    {
      "cell_type": "code",
      "source": [
        "train.info()"
      ],
      "metadata": {
        "colab": {
          "base_uri": "https://localhost:8080/"
        },
        "id": "R9NJic6CdJwc",
        "outputId": "1122bcc9-91b0-4ef3-a655-53052068fd02"
      },
      "execution_count": 8,
      "outputs": [
        {
          "output_type": "stream",
          "name": "stdout",
          "text": [
            "<class 'pandas.core.frame.DataFrame'>\n",
            "RangeIndex: 1023999 entries, 0 to 1023998\n",
            "Data columns (total 2 columns):\n",
            " #   Column  Non-Null Count    Dtype \n",
            "---  ------  --------------    ----- \n",
            " 0   text    1023999 non-null  object\n",
            " 1   target  1023999 non-null  int64 \n",
            "dtypes: int64(1), object(1)\n",
            "memory usage: 15.6+ MB\n"
          ]
        }
      ]
    },
    {
      "cell_type": "code",
      "source": [
        "test.info()"
      ],
      "metadata": {
        "colab": {
          "base_uri": "https://localhost:8080/"
        },
        "id": "QcFTSWeDdgN8",
        "outputId": "77601d24-cff6-4b5f-f46c-17f77424c1b7"
      },
      "execution_count": 9,
      "outputs": [
        {
          "output_type": "stream",
          "name": "stdout",
          "text": [
            "<class 'pandas.core.frame.DataFrame'>\n",
            "RangeIndex: 256000 entries, 0 to 255999\n",
            "Data columns (total 1 columns):\n",
            " #   Column  Non-Null Count   Dtype \n",
            "---  ------  --------------   ----- \n",
            " 0   text    256000 non-null  object\n",
            "dtypes: object(1)\n",
            "memory usage: 2.0+ MB\n"
          ]
        }
      ]
    },
    {
      "cell_type": "markdown",
      "source": [
        "## Preprocessing \n",
        "Extact text for column\n",
        "\n",
        "1- Remove punctuation: Punctuation marks such as commas, periods, and question marks do not provide much meaning for sentiment analysis, so you can remove them from the text.\n",
        "\n",
        "2- Convert text to lowercase: Convert all the text to lowercase so that similar words can be grouped together.\n",
        "\n",
        "3- Tokenize the text: Tokenization is the process of splitting a sentence into words. You can use NLTK library to tokenize the text.\n",
        "\n",
        "4- Remove stop words: Stop words are common words such as \"the\", \"and\", and \"in\" that do not add much meaning to the text. You can remove them using NLTK's stop words list.\n",
        "\n",
        "5- Stemming/Lemmatization: Stemming and lemmatization are techniques to reduce the word to its root form. It can help in reducing the feature space. You can use NLTK's WordNetLemmatizer for lemmatization or PorterStemmer for stemming."
      ],
      "metadata": {
        "id": "8i7gQEO5dt1-"
      }
    },
    {
      "cell_type": "code",
      "source": [
        "def preprocess_text(text):\n",
        "  text = re.sub('[^a-zA-Z]',' ',text).strip()\n",
        "  text = text.lower()\n",
        "  tokens = word_tokenize(text)\n",
        "  filtered_tokens = [token for token in tokens if token not in stop_words and token.isalpha()]\n",
        "  stemmed_tokens = [stemmer.stem(token) for token in filtered_tokens]\n",
        "  return \" \".join(stemmed_tokens)"
      ],
      "metadata": {
        "id": "dI0GewqEdjvW"
      },
      "execution_count": 10,
      "outputs": []
    },
    {
      "cell_type": "code",
      "source": [
        "train['text'] = train['text'].apply(lambda x : preprocess_text(x))\n",
        "test['text'] = test['text'].apply(lambda x : preprocess_text(x))"
      ],
      "metadata": {
        "id": "KjRimrlOeBFV"
      },
      "execution_count": 11,
      "outputs": []
    },
    {
      "cell_type": "markdown",
      "source": [
        "### convert Data frame to numpy array and transform it to vector"
      ],
      "metadata": {
        "id": "zxc4hxargj4B"
      }
    },
    {
      "cell_type": "code",
      "source": [
        "X_train , X_val = train_test_split(train,test_size=.5,random_state=2)"
      ],
      "metadata": {
        "id": "Qur5ha5txWAq"
      },
      "execution_count": 12,
      "outputs": []
    },
    {
      "cell_type": "code",
      "source": [
        "cv = TfidfVectorizer(ngram_range=(1,3), analyzer = 'word', use_idf=True, smooth_idf=True, sublinear_tf=True)\n",
        "df_train = cv.fit_transform(X_train['text'])\n",
        "df_val = cv.transform(X_val['text']) \n",
        "df_test = cv.transform(test['text'])"
      ],
      "metadata": {
        "id": "gMvsYZBHgtqa"
      },
      "execution_count": 13,
      "outputs": []
    },
    {
      "cell_type": "code",
      "source": [
        "print('df_train shape ',df_train.shape)\n",
        "print('df_train shape ',df_val.shape)"
      ],
      "metadata": {
        "colab": {
          "base_uri": "https://localhost:8080/"
        },
        "id": "0ox7lGHwyTnH",
        "outputId": "b5d53788-7bbb-40e6-e520-749f57b0052b"
      },
      "execution_count": 14,
      "outputs": [
        {
          "output_type": "stream",
          "name": "stdout",
          "text": [
            "df_train shape  (511999, 4544337)\n",
            "df_train shape  (512000, 4544337)\n"
          ]
        }
      ]
    },
    {
      "cell_type": "code",
      "source": [
        "model = KMeans(n_clusters=2,init='random',n_init=200)"
      ],
      "metadata": {
        "id": "I4AFwrkJsdYg"
      },
      "execution_count": 15,
      "outputs": []
    },
    {
      "cell_type": "code",
      "source": [
        "#model.fit(df_train)"
      ],
      "metadata": {
        "id": "-JoGaSW5u25F"
      },
      "execution_count": 16,
      "outputs": []
    },
    {
      "cell_type": "code",
      "source": [
        "#df_val"
      ],
      "metadata": {
        "id": "MDoUJa--3sqR"
      },
      "execution_count": 17,
      "outputs": []
    },
    {
      "cell_type": "code",
      "source": [
        "# pred = model.predict(df_val)\n",
        "# conf_mat = confusion_matrix(X_val.target, pred)\n",
        "# print(conf_mat)"
      ],
      "metadata": {
        "id": "_NoaccZdu5Lc"
      },
      "execution_count": 18,
      "outputs": []
    },
    {
      "cell_type": "code",
      "source": [
        "# ax = sns.heatmap(conf_mat/np.sum(conf_mat), annot=True, \n",
        "#             fmt='.2%', cmap='Blues')\n",
        "\n",
        "# ax.set_title('Seaborn Confusion Matrix with labels\\n\\n');\n",
        "# ax.set_xlabel('\\nPredicted Values')\n",
        "# ax.set_ylabel('Actual Values ');\n",
        "\n",
        "# ## Ticket labels - List must be in alphabetical order\n",
        "# ax.xaxis.set_ticklabels(['False','True'])\n",
        "# ax.yaxis.set_ticklabels(['False','True'])\n",
        "\n",
        "# ## Display the visualization of the Confusion Matrix.\n",
        "# plt.show()"
      ],
      "metadata": {
        "id": "e6gTj170ItrG"
      },
      "execution_count": 19,
      "outputs": []
    },
    {
      "cell_type": "code",
      "source": [
        "# print(classification_report(X_val.target, pred))"
      ],
      "metadata": {
        "id": "3xvxLrsYvIzO"
      },
      "execution_count": 20,
      "outputs": []
    },
    {
      "cell_type": "code",
      "source": [
        "# predictions = model.predict(df_test)"
      ],
      "metadata": {
        "id": "_R7RXxltOAPH"
      },
      "execution_count": 21,
      "outputs": []
    },
    {
      "cell_type": "code",
      "source": [
        "# output = pd.DataFrame({'Id':test_id,\n",
        "#                        'target': predictions})\n",
        "# output.to_csv('kmeans1.csv', index=False)\n",
        "\n",
        "# print(\"Your submission was successfully saved!\")"
      ],
      "metadata": {
        "id": "W9ipWDosM0xF"
      },
      "execution_count": 22,
      "outputs": []
    },
    {
      "cell_type": "markdown",
      "source": [
        "The message \"PCA does not support sparse input. See TruncatedSVD for a possible alternative\" means that the PCA algorithm in scikit-learn does not accept sparse input data.\n",
        "\n",
        "Sparse data refers to data that has a large number of zero values. In natural language processing, for example, sparse data is common when working with text data that has been converted to a bag-of-words representation.\n",
        "\n",
        "TruncatedSVD is an alternative algorithm that can be used for dimensionality reduction on sparse data. TruncatedSVD is similar to PCA, but specifically designed to handle sparse matrices as input. The TruncatedSVD algorithm is a variant of singular value decomposition (SVD) that can be used to reduce the dimensionality of sparse data."
      ],
      "metadata": {
        "id": "E2-t_ywJCykt"
      }
    },
    {
      "cell_type": "code",
      "source": [
        "# pca = PCA(n_components=100)\n",
        "# pca.fit(df_train)\n",
        "# X_train_reduce = pca.transform(df_train)\n",
        "# X_val_reduce = pca.transform(df_val)"
      ],
      "metadata": {
        "id": "ELbD1Hpv4MO4"
      },
      "execution_count": 23,
      "outputs": []
    },
    {
      "cell_type": "markdown",
      "source": [
        "## Reduce the dimensionality using TruncatedSVD"
      ],
      "metadata": {
        "id": "P1ZzHd5BKGy-"
      }
    },
    {
      "cell_type": "code",
      "source": [
        "# svd = TruncatedSVD(n_components=1000)\n",
        "# X_train_reduce = svd.fit_transform(df_train)\n",
        "# X_val_reduce = svd.fit_transform(df_val)\n",
        "# test_reduce = svd.fit_transform(df_test)"
      ],
      "metadata": {
        "id": "YuQFjKNu7E_g"
      },
      "execution_count": 24,
      "outputs": []
    },
    {
      "cell_type": "code",
      "source": [
        "# model.fit(X_train_reduce)"
      ],
      "metadata": {
        "id": "eCFuAgHcDoo7"
      },
      "execution_count": 25,
      "outputs": []
    },
    {
      "cell_type": "code",
      "source": [
        "# pred = model.predict(X_val_reduce)\n",
        "# conf_mat = confusion_matrix(X_val.target, pred)\n",
        "# print(conf_mat)"
      ],
      "metadata": {
        "id": "aAepTrGiJ7N5"
      },
      "execution_count": 26,
      "outputs": []
    },
    {
      "cell_type": "code",
      "source": [
        "# ax = sns.heatmap(conf_mat/np.sum(conf_mat), annot=True, \n",
        "#             fmt='.2%', cmap='Blues')\n",
        "\n",
        "# ax.set_title('Seaborn Confusion Matrix with labels\\n\\n');\n",
        "# ax.set_xlabel('\\nPredicted Values')\n",
        "# ax.set_ylabel('Actual Values ');\n",
        "\n",
        "# ## Ticket labels - List must be in alphabetical order\n",
        "# ax.xaxis.set_ticklabels(['False','True'])\n",
        "# ax.yaxis.set_ticklabels(['False','True'])\n",
        "\n",
        "# ## Display the visualization of the Confusion Matrix.\n",
        "# plt.show()"
      ],
      "metadata": {
        "id": "b0aGUBl1J-6I"
      },
      "execution_count": 27,
      "outputs": []
    },
    {
      "cell_type": "code",
      "source": [
        "# print(classification_report(X_val.target, pred))"
      ],
      "metadata": {
        "id": "9Undic48KBV_"
      },
      "execution_count": 28,
      "outputs": []
    },
    {
      "cell_type": "code",
      "source": [
        "# predictions = model.predict(test_reduce)\n",
        "# output = pd.DataFrame({'Id':test_id,\n",
        "#                        'target': predictions})\n",
        "# output.to_csv('kmeans2.csv', index=False)\n",
        "\n",
        "# print(\"Your submission was successfully saved!\")"
      ],
      "metadata": {
        "id": "MqmNNtqkMtBM"
      },
      "execution_count": 29,
      "outputs": []
    },
    {
      "cell_type": "markdown",
      "source": [
        "## Hierarchical Clustering"
      ],
      "metadata": {
        "id": "Aogd5fP4KSUe"
      }
    },
    {
      "cell_type": "markdown",
      "source": [
        "Using the reduced data"
      ],
      "metadata": {
        "id": "BuMu1_0zLOna"
      }
    },
    {
      "cell_type": "code",
      "source": [
        "model2 = AgglomerativeClustering(n_clusters=2, linkage='ward')\n",
        "# model2.fit(X_train_reduce)"
      ],
      "metadata": {
        "id": "nIuf6kO4KkF0"
      },
      "execution_count": 30,
      "outputs": []
    },
    {
      "cell_type": "code",
      "source": [
        "# pred = model.predict(X_val_reduce)\n",
        "# conf_mat = confusion_matrix(X_val.target, pred)\n",
        "# print(conf_mat)"
      ],
      "metadata": {
        "id": "0zaRWPfRLDQW"
      },
      "execution_count": 31,
      "outputs": []
    },
    {
      "cell_type": "code",
      "source": [
        "# ax = sns.heatmap(conf_mat/np.sum(conf_mat), annot=True, \n",
        "#             fmt='.2%', cmap='Blues')\n",
        "\n",
        "# ax.set_title('Seaborn Confusion Matrix with labels\\n\\n');\n",
        "# ax.set_xlabel('\\nPredicted Values')\n",
        "# ax.set_ylabel('Actual Values ');\n",
        "\n",
        "# ## Ticket labels - List must be in alphabetical order\n",
        "# ax.xaxis.set_ticklabels(['False','True'])\n",
        "# ax.yaxis.set_ticklabels(['False','True'])\n",
        "\n",
        "# ## Display the visualization of the Confusion Matrix.\n",
        "# plt.show()"
      ],
      "metadata": {
        "id": "akxEBM1uLH4Q"
      },
      "execution_count": 32,
      "outputs": []
    },
    {
      "cell_type": "code",
      "source": [
        "# print(classification_report(X_val.target, pred))"
      ],
      "metadata": {
        "id": "wfId_5JrLKje"
      },
      "execution_count": 33,
      "outputs": []
    },
    {
      "cell_type": "code",
      "source": [
        "# predictions = model.predict(test_reduce)\n",
        "# output = pd.DataFrame({'Id':test_id,\n",
        "#                        'target': predictions})\n",
        "# output.to_csv('kmeans3.csv', index=False)\n",
        "\n",
        "# print(\"Your submission was successfully saved!\")"
      ],
      "metadata": {
        "id": "008tOI5zMuHn"
      },
      "execution_count": 34,
      "outputs": []
    },
    {
      "cell_type": "markdown",
      "source": [
        "using the data without reduced"
      ],
      "metadata": {
        "id": "o9pPBTiWLSuO"
      }
    },
    {
      "cell_type": "code",
      "source": [
        "model2.fit(df_train.toarray())"
      ],
      "metadata": {
        "id": "wI1EpjzVLXHJ"
      },
      "execution_count": null,
      "outputs": []
    },
    {
      "cell_type": "code",
      "source": [
        "pred = model.predict(df_val)\n",
        "conf_mat = confusion_matrix(X_val.target, pred)\n",
        "print(conf_mat)"
      ],
      "metadata": {
        "id": "Nl_kdHhaLaAS"
      },
      "execution_count": null,
      "outputs": []
    },
    {
      "cell_type": "code",
      "source": [
        "ax = sns.heatmap(conf_mat/np.sum(conf_mat), annot=True, \n",
        "            fmt='.2%', cmap='Blues')\n",
        "\n",
        "ax.set_title('Seaborn Confusion Matrix with labels\\n\\n');\n",
        "ax.set_xlabel('\\nPredicted Values')\n",
        "ax.set_ylabel('Actual Values ');\n",
        "\n",
        "## Ticket labels - List must be in alphabetical order\n",
        "ax.xaxis.set_ticklabels(['False','True'])\n",
        "ax.yaxis.set_ticklabels(['False','True'])\n",
        "\n",
        "## Display the visualization of the Confusion Matrix.\n",
        "plt.show()"
      ],
      "metadata": {
        "id": "hHs3Qdq-LqT2"
      },
      "execution_count": null,
      "outputs": []
    },
    {
      "cell_type": "code",
      "source": [
        "print(classification_report(X_val.target, pred))"
      ],
      "metadata": {
        "id": "O48RmNK5Lsre"
      },
      "execution_count": null,
      "outputs": []
    },
    {
      "cell_type": "code",
      "source": [
        "predictions = model.predict(df_test)\n",
        "output = pd.DataFrame({'Id':test_id,\n",
        "                       'target': predictions})\n",
        "output.to_csv('kmeans4.csv', index=False)\n",
        "\n",
        "print(\"Your submission was successfully saved!\")"
      ],
      "metadata": {
        "id": "wy2E0PbfMvL3"
      },
      "execution_count": null,
      "outputs": []
    }
  ]
}